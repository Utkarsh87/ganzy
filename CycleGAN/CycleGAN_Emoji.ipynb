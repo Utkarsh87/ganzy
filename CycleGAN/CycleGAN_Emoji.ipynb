{
  "nbformat": 4,
  "nbformat_minor": 0,
  "metadata": {
    "colab": {
      "name": "CycleGAN Emoji",
      "provenance": [],
      "collapsed_sections": []
    },
    "kernelspec": {
      "display_name": "Python 3",
      "name": "python3"
    },
    "language_info": {
      "name": "python"
    },
    "accelerator": "GPU"
  },
  "cells": [
    {
      "cell_type": "code",
      "metadata": {
        "colab": {
          "base_uri": "https://localhost:8080/"
        },
        "id": "Xwy4gZsgOmF7",
        "outputId": "fe5ee9cf-ff4c-4d43-c8f8-ca0f3835386f"
      },
      "source": [
        "!nvidia-smi"
      ],
      "execution_count": null,
      "outputs": [
        {
          "output_type": "stream",
          "text": [
            "Thu Jul 22 10:38:06 2021       \n",
            "+-----------------------------------------------------------------------------+\n",
            "| NVIDIA-SMI 470.42.01    Driver Version: 460.32.03    CUDA Version: 11.2     |\n",
            "|-------------------------------+----------------------+----------------------+\n",
            "| GPU  Name        Persistence-M| Bus-Id        Disp.A | Volatile Uncorr. ECC |\n",
            "| Fan  Temp  Perf  Pwr:Usage/Cap|         Memory-Usage | GPU-Util  Compute M. |\n",
            "|                               |                      |               MIG M. |\n",
            "|===============================+======================+======================|\n",
            "|   0  Tesla K80           Off  | 00000000:00:04.0 Off |                    0 |\n",
            "| N/A   33C    P8    27W / 149W |      0MiB / 11441MiB |      0%      Default |\n",
            "|                               |                      |                  N/A |\n",
            "+-------------------------------+----------------------+----------------------+\n",
            "                                                                               \n",
            "+-----------------------------------------------------------------------------+\n",
            "| Processes:                                                                  |\n",
            "|  GPU   GI   CI        PID   Type   Process name                  GPU Memory |\n",
            "|        ID   ID                                                   Usage      |\n",
            "|=============================================================================|\n",
            "|  No running processes found                                                 |\n",
            "+-----------------------------------------------------------------------------+\n"
          ],
          "name": "stdout"
        }
      ]
    },
    {
      "cell_type": "code",
      "metadata": {
        "id": "mcomwiMyXVqU",
        "colab": {
          "base_uri": "https://localhost:8080/"
        },
        "outputId": "39858016-7151-4a92-9450-643f4cd9dabf"
      },
      "source": [
        "from google.colab import drive\n",
        "drive.mount('/content/drive')\n",
        "\n",
        "!unzip -uq /content/drive/MyDrive/CycleGAN.zip && mv CycleGAN/* . && rm -rf CycleGAN*"
      ],
      "execution_count": null,
      "outputs": [
        {
          "output_type": "stream",
          "text": [
            "Mounted at /content/drive\n"
          ],
          "name": "stdout"
        }
      ]
    },
    {
      "cell_type": "code",
      "metadata": {
        "colab": {
          "base_uri": "https://localhost:8080/"
        },
        "id": "FcVqcQ-ra0nP",
        "outputId": "0934597c-639b-41e7-ca5e-7f4e8cc0ed25"
      },
      "source": [
        "!python3 cyclegan.py -h"
      ],
      "execution_count": null,
      "outputs": [
        {
          "output_type": "stream",
          "text": [
            "usage: cyclegan.py [-h] [--image_size IMAGE_SIZE] [--g_conv_dim G_CONV_DIM]\n",
            "                   [--d_conv_dim D_CONV_DIM] [--use_cycle_consistency_loss]\n",
            "                   [--init_zero_weights] [--train_iters TRAIN_ITERS]\n",
            "                   [--num_cycles NUM_CYCLES] [--batch_size BATCH_SIZE]\n",
            "                   [--num_workers NUM_WORKERS] [--lr LR] [--beta1 BETA1]\n",
            "                   [--beta2 BETA2] [--X {Apple,Windows}] [--Y {Apple,Windows}]\n",
            "                   [--checkpoint_dir CHECKPOINT_DIR]\n",
            "                   [--sample_dir1 SAMPLE_DIR1] [--sample_dir2 SAMPLE_DIR2]\n",
            "                   [--load LOAD] [--log_step LOG_STEP]\n",
            "                   [--sample_every SAMPLE_EVERY]\n",
            "                   [--checkpoint_every CHECKPOINT_EVERY]\n",
            "\n",
            "optional arguments:\n",
            "  -h, --help            show this help message and exit\n",
            "  --image_size IMAGE_SIZE\n",
            "                        The side length N to convert images to NxN.\n",
            "  --g_conv_dim G_CONV_DIM\n",
            "  --d_conv_dim D_CONV_DIM\n",
            "  --use_cycle_consistency_loss\n",
            "                        Choose whether to include the cycle consistency term\n",
            "                        in the loss.\n",
            "  --init_zero_weights   Choose whether to initialize the generator conv\n",
            "                        weights to 0 (implements the identity function).\n",
            "  --train_iters TRAIN_ITERS\n",
            "                        The number of training iterations to run (you can\n",
            "                        Ctrl-C out earlier if you want).\n",
            "  --num_cycles NUM_CYCLES\n",
            "                        The number of generator cycles(i.e. number of X->Y->X\n",
            "                        and Y->X->Y cycles per discriminator update)\n",
            "  --batch_size BATCH_SIZE\n",
            "                        The number of images in a batch.\n",
            "  --num_workers NUM_WORKERS\n",
            "                        The number of threads to use for the DataLoader.\n",
            "  --lr LR               The learning rate (default 0.0003)\n",
            "  --beta1 BETA1\n",
            "  --beta2 BETA2\n",
            "  --X {Apple,Windows}   Choose the type of images for domain X.\n",
            "  --Y {Apple,Windows}   Choose the type of images for domain Y.\n",
            "  --checkpoint_dir CHECKPOINT_DIR\n",
            "  --sample_dir1 SAMPLE_DIR1\n",
            "  --sample_dir2 SAMPLE_DIR2\n",
            "  --load LOAD\n",
            "  --log_step LOG_STEP\n",
            "  --sample_every SAMPLE_EVERY\n",
            "  --checkpoint_every CHECKPOINT_EVERY\n"
          ],
          "name": "stdout"
        }
      ]
    },
    {
      "cell_type": "code",
      "metadata": {
        "id": "7Lw94Plv7p4L"
      },
      "source": [
        "%%time\n",
        "!python3 cyclegan.py --g_conv_dim 64 --d_conv_dim 64 --use_cycle_consistency_loss --num_cycles 1 --train_iters=60000 --sample_every 1000 --log_step 1000"
      ],
      "execution_count": null,
      "outputs": []
    },
    {
      "cell_type": "code",
      "metadata": {
        "id": "1b5ZJvm8-VE6"
      },
      "source": [
        "import os\n",
        "import imageio\n",
        "\n",
        "def giffer(dir, gifname):\n",
        "    filenames = sorted(filter(lambda x: os.path.isfile(os.path.join(dir, x)), os.listdir(dir)))\n",
        "    images = [imageio.imread(dir+filename) for filename in filenames]\n",
        "    imageio.mimsave(gifname, images)"
      ],
      "execution_count": null,
      "outputs": []
    },
    {
      "cell_type": "code",
      "metadata": {
        "id": "NfamYaLcBbC1"
      },
      "source": [
        "giffer('/content/samples_X-Y_cycle/', 'cyclegan_x-y.gif')\n",
        "giffer('/content/samples_Y-X_cycle/', 'cyclegan_y-x.gif')"
      ],
      "execution_count": null,
      "outputs": []
    },
    {
      "cell_type": "code",
      "metadata": {
        "id": "lr3kzEp-PJNy"
      },
      "source": [
        "%%time\n",
        "# test\n",
        "!python3 cyclegan.py --g_conv_dim 64 --d_conv_dim 64 --use_cycle_consistency_loss --num_cycles 2 --train_iters=2000 --sample_every 1000 --log_step 1000"
      ],
      "execution_count": null,
      "outputs": []
    }
  ]
}